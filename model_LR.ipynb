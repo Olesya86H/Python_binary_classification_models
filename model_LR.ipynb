{
 "cells": [
  {
   "cell_type": "code",
   "execution_count": 14,
   "id": "5368b289",
   "metadata": {},
   "outputs": [],
   "source": [
    "import numpy as np\n",
    "import pandas as pd\n",
    "from sklearn.linear_model import LogisticRegression"
   ]
  },
  {
   "cell_type": "code",
   "execution_count": 15,
   "id": "da988590",
   "metadata": {},
   "outputs": [],
   "source": [
    "data = pd.read_csv('data_train_test.csv')\n",
    "a = data['patient_manual_class']\n",
    "a = a.replace(np.nan, 0)\n",
    "a = a.replace(2, 0)\n",
    "data['patient_manual_class'] = a\n",
    "data = data.dropna()"
   ]
  },
  {
   "cell_type": "code",
   "execution_count": 16,
   "id": "d9a1467b",
   "metadata": {},
   "outputs": [],
   "source": [
    "from sklearn.model_selection import train_test_split\n",
    "num_features = ['abs', 'std', 'norm_abs', 'mean', 'sd', 'median', 'mode', 'Q25', 'Q75', 'IQR', 'skew', 'kurt', 'kx2', 'n_pic']\n",
    "cat_features = ['patient_ds', 'rec_date_time']\n",
    "X_train, X_test, y_train, y_test = train_test_split(data[num_features], data['patient_manual_class'], test_size=0.2, shuffle=False)"
   ]
  },
  {
   "cell_type": "code",
   "execution_count": 17,
   "id": "b86addcd",
   "metadata": {},
   "outputs": [],
   "source": [
    "df = pd.DataFrame(data[num_features])"
   ]
  },
  {
   "cell_type": "code",
   "execution_count": 18,
   "id": "7ce83ff6",
   "metadata": {},
   "outputs": [],
   "source": [
    "model_LR = LogisticRegression(solver='liblinear', multi_class='ovr').fit(X_train, y_train)"
   ]
  },
  {
   "cell_type": "code",
   "execution_count": 19,
   "id": "cfa2c785",
   "metadata": {},
   "outputs": [],
   "source": [
    "import pickle\n",
    "data = model_LR\n",
    "with open('model_LR.pickle', 'wb') as f:\n",
    "  pickle.dump(data, f)"
   ]
  },
  {
   "cell_type": "code",
   "execution_count": 20,
   "id": "a8281b78",
   "metadata": {},
   "outputs": [
    {
     "name": "stdout",
     "output_type": "stream",
     "text": [
      "Точность: 0.8222222222222222\n"
     ]
    }
   ],
   "source": [
    "prediction = model_LR.predict(X_test)\n",
    "from sklearn import metrics\n",
    "print(\"Точность:\", metrics.accuracy_score(y_test, prediction))"
   ]
  },
  {
   "cell_type": "code",
   "execution_count": 21,
   "id": "dd2fdc03",
   "metadata": {},
   "outputs": [
    {
     "name": "stdout",
     "output_type": "stream",
     "text": [
      "Ошибка MSE: 0.17777777777777778\n"
     ]
    }
   ],
   "source": [
    "from sklearn.metrics import mean_squared_error\n",
    "print(\"Ошибка MSE:\", mean_squared_error(y_test, prediction))"
   ]
  },
  {
   "cell_type": "code",
   "execution_count": 22,
   "id": "f28a7644",
   "metadata": {},
   "outputs": [
    {
     "name": "stdout",
     "output_type": "stream",
     "text": [
      "Ошибка RMSE: 0.4216370213557839\n"
     ]
    }
   ],
   "source": [
    "from math import sqrt\n",
    "print(\"Ошибка RMSE:\", sqrt(mean_squared_error(y_test, prediction)))"
   ]
  },
  {
   "cell_type": "code",
   "execution_count": 23,
   "id": "a04ba0bf",
   "metadata": {},
   "outputs": [
    {
     "name": "stdout",
     "output_type": "stream",
     "text": [
      "Результаты классификации модели, построенной на логистической регрессии выгружены в файл data_test_model_LR.csv\n"
     ]
    }
   ],
   "source": [
    "data_test = pd.read_csv('data_test.csv')\n",
    "df_test = pd.DataFrame(data_test[num_features])\n",
    "df_test = df_test.dropna()\n",
    "X_test = df_test.iloc[:,:]\n",
    "prediction = model_LR.predict(X_test)\n",
    "df_test[\"fistulas_kind\"] = prediction #добавляем в наш НД расчетное значение\n",
    "#пишем в файл результат, колонка fistulas_kind:\n",
    "df_test.to_csv(\"data_test_model_LR.csv\", index=False)\n",
    "print(\"Результаты классификации модели, построенной на логистической регрессии выгружены в файл data_test_model_LR.csv\")"
   ]
  },
  {
   "cell_type": "code",
   "execution_count": 24,
   "id": "e5fc8066",
   "metadata": {},
   "outputs": [
    {
     "name": "stdout",
     "output_type": "stream",
     "text": [
      "Виды АВФ в результате классификации с помощью логистической регрессии:  [1. 0.]\n",
      "0 - плохая, 1 - хорошая\n",
      "\n",
      " fistulas_kind\n",
      "0.0      4\n",
      "1.0    230\n",
      "dtype: int64\n"
     ]
    }
   ],
   "source": [
    "print(\"Виды АВФ в результате классификации с помощью логистической регрессии: \", df_test.fistulas_kind.unique())\n",
    "print(\"0 - плохая, 1 - хорошая\")\n",
    "print(\"\\n\", df_test.groupby('fistulas_kind').size())"
   ]
  },
  {
   "cell_type": "code",
   "execution_count": null,
   "id": "eb920b21",
   "metadata": {},
   "outputs": [],
   "source": []
  }
 ],
 "metadata": {
  "kernelspec": {
   "display_name": "Python 3 (ipykernel)",
   "language": "python",
   "name": "python3"
  },
  "language_info": {
   "codemirror_mode": {
    "name": "ipython",
    "version": 3
   },
   "file_extension": ".py",
   "mimetype": "text/x-python",
   "name": "python",
   "nbconvert_exporter": "python",
   "pygments_lexer": "ipython3",
   "version": "3.11.0"
  }
 },
 "nbformat": 4,
 "nbformat_minor": 5
}
