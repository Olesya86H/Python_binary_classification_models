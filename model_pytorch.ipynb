{
 "cells": [
  {
   "cell_type": "code",
   "execution_count": 1,
   "id": "51156fec",
   "metadata": {},
   "outputs": [],
   "source": [
    "import numpy as np\n",
    "import pandas as pd\n",
    "\n",
    "import matplotlib.pyplot as plt\n",
    "\n",
    "from tqdm import tqdm\n",
    "\n",
    "import torch\n",
    "import torch.nn as nn\n",
    "# import torch.nn.functional as F\n",
    "from torch.utils.data import Dataset, DataLoader"
   ]
  },
  {
   "cell_type": "code",
   "execution_count": 2,
   "id": "11e860aa",
   "metadata": {},
   "outputs": [],
   "source": [
    "data_train = pd.read_csv('data_train_test.csv')"
   ]
  },
  {
   "cell_type": "code",
   "execution_count": 3,
   "id": "0b570b9c",
   "metadata": {},
   "outputs": [
    {
     "data": {
      "text/plain": [
       "Index(['patient_id', 'patient_nhd', 'patient_ds', 'rec_date_time', 'abs',\n",
       "       'std', 'norm_abs', 'mean', 'sd', 'median', 'mode', 'Q25', 'Q75', 'IQR',\n",
       "       'skew', 'kurt', 'kx2', 'n_pic', 'patient_manual_class'],\n",
       "      dtype='object')"
      ]
     },
     "execution_count": 3,
     "metadata": {},
     "output_type": "execute_result"
    }
   ],
   "source": [
    "data_train.keys()"
   ]
  },
  {
   "cell_type": "code",
   "execution_count": 4,
   "id": "3dace871",
   "metadata": {},
   "outputs": [
    {
     "data": {
      "text/html": [
       "<div>\n",
       "<style scoped>\n",
       "    .dataframe tbody tr th:only-of-type {\n",
       "        vertical-align: middle;\n",
       "    }\n",
       "\n",
       "    .dataframe tbody tr th {\n",
       "        vertical-align: top;\n",
       "    }\n",
       "\n",
       "    .dataframe thead th {\n",
       "        text-align: right;\n",
       "    }\n",
       "</style>\n",
       "<table border=\"1\" class=\"dataframe\">\n",
       "  <thead>\n",
       "    <tr style=\"text-align: right;\">\n",
       "      <th></th>\n",
       "      <th>patient_nhd</th>\n",
       "    </tr>\n",
       "  </thead>\n",
       "  <tbody>\n",
       "    <tr>\n",
       "      <th>7</th>\n",
       "      <td>1963.0</td>\n",
       "    </tr>\n",
       "    <tr>\n",
       "      <th>8</th>\n",
       "      <td>7.0</td>\n",
       "    </tr>\n",
       "    <tr>\n",
       "      <th>9</th>\n",
       "      <td>7.0</td>\n",
       "    </tr>\n",
       "    <tr>\n",
       "      <th>12</th>\n",
       "      <td>48.0</td>\n",
       "    </tr>\n",
       "    <tr>\n",
       "      <th>14</th>\n",
       "      <td>17.0</td>\n",
       "    </tr>\n",
       "    <tr>\n",
       "      <th>...</th>\n",
       "      <td>...</td>\n",
       "    </tr>\n",
       "    <tr>\n",
       "      <th>642</th>\n",
       "      <td>24.0</td>\n",
       "    </tr>\n",
       "    <tr>\n",
       "      <th>643</th>\n",
       "      <td>13.0</td>\n",
       "    </tr>\n",
       "    <tr>\n",
       "      <th>644</th>\n",
       "      <td>13.0</td>\n",
       "    </tr>\n",
       "    <tr>\n",
       "      <th>645</th>\n",
       "      <td>10.0</td>\n",
       "    </tr>\n",
       "    <tr>\n",
       "      <th>646</th>\n",
       "      <td>12.0</td>\n",
       "    </tr>\n",
       "  </tbody>\n",
       "</table>\n",
       "<p>449 rows × 1 columns</p>\n",
       "</div>"
      ],
      "text/plain": [
       "     patient_nhd\n",
       "7         1963.0\n",
       "8            7.0\n",
       "9            7.0\n",
       "12          48.0\n",
       "14          17.0\n",
       "..           ...\n",
       "642         24.0\n",
       "643         13.0\n",
       "644         13.0\n",
       "645         10.0\n",
       "646         12.0\n",
       "\n",
       "[449 rows x 1 columns]"
      ]
     },
     "execution_count": 4,
     "metadata": {},
     "output_type": "execute_result"
    }
   ],
   "source": [
    "# data_train.dropna()[['patient_id', 'patient_manual_class', 'abs', 'std', 'norm_abs', 'mean', 'sd',\n",
    "#        'median', 'mode', 'Q25', 'Q75', 'IQR', 'skew', 'kurt', 'kx2', 'n_pic']]\n",
    "data_train.dropna()[['patient_nhd']]"
   ]
  },
  {
   "cell_type": "code",
   "execution_count": 5,
   "id": "1a2fac77",
   "metadata": {},
   "outputs": [
    {
     "data": {
      "text/plain": [
       "device(type='cpu')"
      ]
     },
     "execution_count": 5,
     "metadata": {},
     "output_type": "execute_result"
    }
   ],
   "source": [
    "# device = torch.device(\"cuda\" if torch.cuda.is_available() else \"cpu\")\n",
    "device = torch.device(\"cpu\")\n",
    "device"
   ]
  },
  {
   "cell_type": "code",
   "execution_count": 6,
   "id": "9d963719",
   "metadata": {},
   "outputs": [
    {
     "data": {
      "text/plain": [
       "array([[8.00000000e+00, 4.77020012e+02, 6.51304517e+02, ...,\n",
       "        2.80000000e+01, 1.30000000e+01, 0.00000000e+00],\n",
       "       [9.00000000e+00, 4.08186401e+03, 5.40835923e+03, ...,\n",
       "        5.95800000e+03, 1.50000000e+01, 1.00000000e+00],\n",
       "       [9.00000000e+00, 3.71956882e+03, 4.88753120e+03, ...,\n",
       "        6.50000000e+03, 1.40000000e+01, 1.00000000e+00],\n",
       "       ...,\n",
       "       [4.70000000e+01, 2.23553232e+03, 3.02401008e+03, ...,\n",
       "        1.86900000e+03, 1.70000000e+01, 1.00000000e+00],\n",
       "       [2.50000000e+01, 4.30080886e+03, 5.57165490e+03, ...,\n",
       "        5.16600000e+03, 1.20000000e+01, 1.00000000e+00],\n",
       "       [1.70000000e+01, 1.92078969e+03, 2.52735033e+03, ...,\n",
       "        1.38900000e+03, 8.00000000e+00, 2.00000000e+00]])"
      ]
     },
     "execution_count": 6,
     "metadata": {},
     "output_type": "execute_result"
    }
   ],
   "source": [
    "np.array(data_train.dropna()[['patient_id', 'abs', 'std', 'norm_abs', 'mean', 'sd',\n",
    "                                                'median', 'mode', 'Q25', 'Q75', 'IQR', 'skew', 'kurt', 'kx2', 'n_pic','patient_manual_class']])"
   ]
  },
  {
   "cell_type": "code",
   "execution_count": 7,
   "id": "c187c94e",
   "metadata": {},
   "outputs": [],
   "source": [
    "class MyCustomDataset(Dataset):\n",
    "    def __init__(self, my_device=torch.device('cpu')):\n",
    "        data_train = pd.read_csv('data_train_test.csv')\n",
    "        data_train.dropna()\n",
    "\n",
    "        x_train = np.array(data_train.dropna()[['patient_id', 'patient_nhd', 'abs', 'std', 'norm_abs', 'mean', 'sd',\n",
    "                                                'median', 'mode', 'Q25', 'Q75', 'IQR', 'skew', 'kurt', 'kx2', 'n_pic']])\n",
    "        y_train = np.array(data_train.dropna()[['patient_manual_class']])\n",
    "\n",
    "        # data_test = pd.read_csv('data_test.csv')\n",
    "        # data_test.dropna()\n",
    "\n",
    "        # x_test = [np.random.randint(0, 9, size=(5)) for _ in range(51_200)]\n",
    "        # y_test = [np.array([np.sum(l)/2, np.sum(l) / len(l)]) for l in x_train]\n",
    "\n",
    "        self.lenght = len(x_train)\n",
    "\n",
    "        my_dtype = torch.float32\n",
    "\n",
    "        self.torch_train = [[torch.tensor(x_train[i], dtype=my_dtype, requires_grad=True, device=my_device),\n",
    "                             torch.tensor(y_train[i], dtype=my_dtype, requires_grad=True, device=my_device)] for i in range(self.lenght)]\n",
    "        # self.torch_train = [[torch.tensor(x_train[i], dtype=my_dtype, requires_grad=True),\n",
    "        #                      torch.tensor(y_train[i], dtype=my_dtype, requires_grad=True)] for i in range(self.lenght)]\n",
    "\n",
    "    def __getitem__(self, index):\n",
    "        return self.torch_train[index][0], self.torch_train[index][1]\n",
    "\n",
    "    def __len__(self):\n",
    "        return self.lenght"
   ]
  },
  {
   "cell_type": "code",
   "execution_count": 8,
   "id": "a892d2c6",
   "metadata": {},
   "outputs": [],
   "source": [
    "batch_size = 8\n",
    "my_dataset = DataLoader(dataset=MyCustomDataset(my_device=device), batch_size=batch_size, shuffle=True)"
   ]
  },
  {
   "cell_type": "code",
   "execution_count": 9,
   "id": "1030881b",
   "metadata": {},
   "outputs": [],
   "source": [
    "class Net(nn.Module): \n",
    "    # Объявить слой с параметрами модели\n",
    "    def __init__(self):\n",
    "        # Вызвать конструктор родительского класса Net для выполнения необходимой инициализации. \n",
    "        super().__init__()  \n",
    "        self.relu = nn.ReLU() \n",
    "        #self.sigmoid = nn.Sigmoid() \n",
    "        self.layer_1 = nn.Linear(16, 16) \n",
    "        self.layer_2 = nn.Linear(16, 1) \n",
    "        self.softmax = nn.Softmax(dim=1)\n",
    "\n",
    "    # Определить предварительный расчет модели, то есть, как вернуть требуемый выход модели в соответствии с расчетом входных x\n",
    "    def forward(self, x): \n",
    "        x = self.relu(self.layer_1(x)) \n",
    "        x = self.softmax(self.layer_2(x)) \n",
    "        return x"
   ]
  },
  {
   "cell_type": "code",
   "execution_count": 10,
   "id": "5bf939e6",
   "metadata": {},
   "outputs": [],
   "source": [
    "model = Net()"
   ]
  },
  {
   "cell_type": "code",
   "execution_count": 11,
   "id": "ae822fab",
   "metadata": {},
   "outputs": [
    {
     "data": {
      "text/plain": [
       "Net(\n",
       "  (relu): ReLU()\n",
       "  (layer_1): Linear(in_features=16, out_features=16, bias=True)\n",
       "  (layer_2): Linear(in_features=16, out_features=1, bias=True)\n",
       "  (softmax): Softmax(dim=1)\n",
       ")"
      ]
     },
     "execution_count": 11,
     "metadata": {},
     "output_type": "execute_result"
    }
   ],
   "source": [
    "model.train(True)"
   ]
  },
  {
   "cell_type": "code",
   "execution_count": 12,
   "id": "ef35eca0",
   "metadata": {},
   "outputs": [
    {
     "data": {
      "text/plain": [
       "Net(\n",
       "  (relu): ReLU()\n",
       "  (layer_1): Linear(in_features=16, out_features=16, bias=True)\n",
       "  (layer_2): Linear(in_features=16, out_features=1, bias=True)\n",
       "  (softmax): Softmax(dim=1)\n",
       ")"
      ]
     },
     "execution_count": 12,
     "metadata": {},
     "output_type": "execute_result"
    }
   ],
   "source": [
    "model.to(device=device)"
   ]
  },
  {
   "cell_type": "code",
   "execution_count": 13,
   "id": "b5724126",
   "metadata": {},
   "outputs": [],
   "source": [
    "loss_array = []\n",
    "epoch = 0\n",
    "\n",
    "class TqdmExtraFormat(tqdm):\n",
    "    @property\n",
    "    def format_dict(self):\n",
    "        d = super(TqdmExtraFormat, self).format_dict\n",
    "\n",
    "        if len(loss_array) > 1:\n",
    "            E = np.mean(loss_array[-1000:])\n",
    "        else:\n",
    "            E = 0\n",
    "\n",
    "        d.update(loss = np.round(E, 4))\n",
    "        d.update(epoch = epoch)\n",
    "        return d"
   ]
  },
  {
   "cell_type": "code",
   "execution_count": 14,
   "id": "645cc896",
   "metadata": {},
   "outputs": [],
   "source": [
    "optimizer = torch.optim.Adam(model.parameters())\n",
    "\n",
    "# loss_fn = nn.CrossEntropyLoss()\n",
    "loss_fn = nn.MSELoss()\n",
    "\n",
    "num_epochs = 10"
   ]
  },
  {
   "cell_type": "code",
   "execution_count": 15,
   "id": "884ffcdd",
   "metadata": {},
   "outputs": [
    {
     "name": "stderr",
     "output_type": "stream",
     "text": [
      "Epoch 0:   0%|                                   | 0/57 [00:00<?, ?it/s] loss=0C:\\Users\\Chernyavskaya_OS\\AppData\\Local\\Programs\\Python\\Python311\\Lib\\site-packages\\torch\\autograd\\__init__.py:200: UserWarning: CUDA initialization: The NVIDIA driver on your system is too old (found version 9010). Please update your GPU driver by downloading and installing a new version from the URL: http://www.nvidia.com/Download/index.aspx Alternatively, go to: https://pytorch.org to install a PyTorch version that has been compiled with your version of the CUDA driver. (Triggered internally at ..\\c10\\cuda\\CUDAFunctions.cpp:109.)\n",
      "  Variable._execution_engine.run_backward(  # Calls into the C++ engine to run the backward pass\n",
      "Epoch 0: 100%|█████████████████████| 57/57 [00:03<00:00, 14.52it/s] loss=0.2039\n",
      "Epoch 1: 100%|████████████████████| 57/57 [00:00<00:00, 407.16it/s] loss=0.2039\n",
      "Epoch 2: 100%|████████████████████| 57/57 [00:00<00:00, 459.68it/s] loss=0.2091\n",
      "Epoch 3: 100%|████████████████████| 57/57 [00:00<00:00, 431.83it/s] loss=0.2078\n",
      "Epoch 4: 100%|█████████████████████| 57/57 [00:00<00:00, 393.10it/s] loss=0.207\n",
      "Epoch 5: 100%|████████████████████| 57/57 [00:00<00:00, 438.47it/s] loss=0.2065\n",
      "Epoch 6: 100%|████████████████████| 57/57 [00:00<00:00, 425.39it/s] loss=0.2061\n",
      "Epoch 7: 100%|████████████████████| 57/57 [00:00<00:00, 455.96it/s] loss=0.2059\n",
      "Epoch 8: 100%|████████████████████| 57/57 [00:00<00:00, 435.11it/s] loss=0.2074\n",
      "Epoch 9: 100%|████████████████████| 57/57 [00:00<00:00, 422.24it/s] loss=0.2086\n"
     ]
    }
   ],
   "source": [
    "for epoch in range(num_epochs):\n",
    "    for data in TqdmExtraFormat(iterable=my_dataset, bar_format=\"Epoch {epoch}: {l_bar}{bar}{r_bar} loss={loss}\"):\n",
    "        # x = data[0].to(device)\n",
    "        # target = data[1].to(device)\n",
    "\n",
    "        x = data[0]\n",
    "        target = data[1]\n",
    "\n",
    "        optimizer.zero_grad()\n",
    "\n",
    "        prediction = model.forward(x)\n",
    "\n",
    "        loss = loss_fn(prediction, target)\n",
    "        loss.backward()\n",
    "\n",
    "        loss_array.append(float(loss))\n",
    "        # if len(loss_array) > 1000:\n",
    "        #     del loss_array[0]\n",
    "\n",
    "        optimizer.step()"
   ]
  },
  {
   "cell_type": "code",
   "execution_count": 16,
   "id": "0c0e604a",
   "metadata": {},
   "outputs": [
    {
     "name": "stdout",
     "output_type": "stream",
     "text": [
      "tensor([1.], requires_grad=True)\n"
     ]
    },
    {
     "ename": "IndexError",
     "evalue": "Dimension out of range (expected to be in range of [-1, 0], but got 1)",
     "output_type": "error",
     "traceback": [
      "\u001b[1;31m---------------------------------------------------------------------------\u001b[0m",
      "\u001b[1;31mIndexError\u001b[0m                                Traceback (most recent call last)",
      "Cell \u001b[1;32mIn [16], line 3\u001b[0m\n\u001b[0;32m      1\u001b[0m i \u001b[38;5;241m=\u001b[39m \u001b[38;5;241m6\u001b[39m\n\u001b[0;32m      2\u001b[0m \u001b[38;5;28mprint\u001b[39m(y \u001b[38;5;241m:=\u001b[39m my_dataset\u001b[38;5;241m.\u001b[39mdataset[i][\u001b[38;5;241m1\u001b[39m])\n\u001b[1;32m----> 3\u001b[0m \u001b[38;5;28mprint\u001b[39m(z \u001b[38;5;241m:=\u001b[39m \u001b[43mmodel\u001b[49m\u001b[38;5;241;43m.\u001b[39;49m\u001b[43mforward\u001b[49m\u001b[43m(\u001b[49m\u001b[43mmy_dataset\u001b[49m\u001b[38;5;241;43m.\u001b[39;49m\u001b[43mdataset\u001b[49m\u001b[43m[\u001b[49m\u001b[43mi\u001b[49m\u001b[43m]\u001b[49m\u001b[43m[\u001b[49m\u001b[38;5;241;43m0\u001b[39;49m\u001b[43m]\u001b[49m\u001b[38;5;241;43m.\u001b[39;49m\u001b[43mto\u001b[49m\u001b[43m(\u001b[49m\u001b[43mdevice\u001b[49m\u001b[43m)\u001b[49m\u001b[43m)\u001b[49m)\n",
      "Cell \u001b[1;32mIn [9], line 15\u001b[0m, in \u001b[0;36mNet.forward\u001b[1;34m(self, x)\u001b[0m\n\u001b[0;32m     13\u001b[0m \u001b[38;5;28;01mdef\u001b[39;00m \u001b[38;5;21mforward\u001b[39m(\u001b[38;5;28mself\u001b[39m, x): \n\u001b[0;32m     14\u001b[0m     x \u001b[38;5;241m=\u001b[39m \u001b[38;5;28mself\u001b[39m\u001b[38;5;241m.\u001b[39mrelu(\u001b[38;5;28mself\u001b[39m\u001b[38;5;241m.\u001b[39mlayer_1(x)) \n\u001b[1;32m---> 15\u001b[0m     x \u001b[38;5;241m=\u001b[39m \u001b[38;5;28;43mself\u001b[39;49m\u001b[38;5;241;43m.\u001b[39;49m\u001b[43msoftmax\u001b[49m\u001b[43m(\u001b[49m\u001b[38;5;28;43mself\u001b[39;49m\u001b[38;5;241;43m.\u001b[39;49m\u001b[43mlayer_2\u001b[49m\u001b[43m(\u001b[49m\u001b[43mx\u001b[49m\u001b[43m)\u001b[49m\u001b[43m)\u001b[49m \n\u001b[0;32m     16\u001b[0m     \u001b[38;5;28;01mreturn\u001b[39;00m x\n",
      "File \u001b[1;32m~\\AppData\\Local\\Programs\\Python\\Python311\\Lib\\site-packages\\torch\\nn\\modules\\module.py:1501\u001b[0m, in \u001b[0;36mModule._call_impl\u001b[1;34m(self, *args, **kwargs)\u001b[0m\n\u001b[0;32m   1496\u001b[0m \u001b[38;5;66;03m# If we don't have any hooks, we want to skip the rest of the logic in\u001b[39;00m\n\u001b[0;32m   1497\u001b[0m \u001b[38;5;66;03m# this function, and just call forward.\u001b[39;00m\n\u001b[0;32m   1498\u001b[0m \u001b[38;5;28;01mif\u001b[39;00m \u001b[38;5;129;01mnot\u001b[39;00m (\u001b[38;5;28mself\u001b[39m\u001b[38;5;241m.\u001b[39m_backward_hooks \u001b[38;5;129;01mor\u001b[39;00m \u001b[38;5;28mself\u001b[39m\u001b[38;5;241m.\u001b[39m_backward_pre_hooks \u001b[38;5;129;01mor\u001b[39;00m \u001b[38;5;28mself\u001b[39m\u001b[38;5;241m.\u001b[39m_forward_hooks \u001b[38;5;129;01mor\u001b[39;00m \u001b[38;5;28mself\u001b[39m\u001b[38;5;241m.\u001b[39m_forward_pre_hooks\n\u001b[0;32m   1499\u001b[0m         \u001b[38;5;129;01mor\u001b[39;00m _global_backward_pre_hooks \u001b[38;5;129;01mor\u001b[39;00m _global_backward_hooks\n\u001b[0;32m   1500\u001b[0m         \u001b[38;5;129;01mor\u001b[39;00m _global_forward_hooks \u001b[38;5;129;01mor\u001b[39;00m _global_forward_pre_hooks):\n\u001b[1;32m-> 1501\u001b[0m     \u001b[38;5;28;01mreturn\u001b[39;00m \u001b[43mforward_call\u001b[49m\u001b[43m(\u001b[49m\u001b[38;5;241;43m*\u001b[39;49m\u001b[43margs\u001b[49m\u001b[43m,\u001b[49m\u001b[43m \u001b[49m\u001b[38;5;241;43m*\u001b[39;49m\u001b[38;5;241;43m*\u001b[39;49m\u001b[43mkwargs\u001b[49m\u001b[43m)\u001b[49m\n\u001b[0;32m   1502\u001b[0m \u001b[38;5;66;03m# Do not call functions when jit is used\u001b[39;00m\n\u001b[0;32m   1503\u001b[0m full_backward_hooks, non_full_backward_hooks \u001b[38;5;241m=\u001b[39m [], []\n",
      "File \u001b[1;32m~\\AppData\\Local\\Programs\\Python\\Python311\\Lib\\site-packages\\torch\\nn\\modules\\activation.py:1459\u001b[0m, in \u001b[0;36mSoftmax.forward\u001b[1;34m(self, input)\u001b[0m\n\u001b[0;32m   1458\u001b[0m \u001b[38;5;28;01mdef\u001b[39;00m \u001b[38;5;21mforward\u001b[39m(\u001b[38;5;28mself\u001b[39m, \u001b[38;5;28minput\u001b[39m: Tensor) \u001b[38;5;241m-\u001b[39m\u001b[38;5;241m>\u001b[39m Tensor:\n\u001b[1;32m-> 1459\u001b[0m     \u001b[38;5;28;01mreturn\u001b[39;00m \u001b[43mF\u001b[49m\u001b[38;5;241;43m.\u001b[39;49m\u001b[43msoftmax\u001b[49m\u001b[43m(\u001b[49m\u001b[38;5;28;43minput\u001b[39;49m\u001b[43m,\u001b[49m\u001b[43m \u001b[49m\u001b[38;5;28;43mself\u001b[39;49m\u001b[38;5;241;43m.\u001b[39;49m\u001b[43mdim\u001b[49m\u001b[43m,\u001b[49m\u001b[43m \u001b[49m\u001b[43m_stacklevel\u001b[49m\u001b[38;5;241;43m=\u001b[39;49m\u001b[38;5;241;43m5\u001b[39;49m\u001b[43m)\u001b[49m\n",
      "File \u001b[1;32m~\\AppData\\Local\\Programs\\Python\\Python311\\Lib\\site-packages\\torch\\nn\\functional.py:1843\u001b[0m, in \u001b[0;36msoftmax\u001b[1;34m(input, dim, _stacklevel, dtype)\u001b[0m\n\u001b[0;32m   1841\u001b[0m     dim \u001b[38;5;241m=\u001b[39m _get_softmax_dim(\u001b[38;5;124m\"\u001b[39m\u001b[38;5;124msoftmax\u001b[39m\u001b[38;5;124m\"\u001b[39m, \u001b[38;5;28minput\u001b[39m\u001b[38;5;241m.\u001b[39mdim(), _stacklevel)\n\u001b[0;32m   1842\u001b[0m \u001b[38;5;28;01mif\u001b[39;00m dtype \u001b[38;5;129;01mis\u001b[39;00m \u001b[38;5;28;01mNone\u001b[39;00m:\n\u001b[1;32m-> 1843\u001b[0m     ret \u001b[38;5;241m=\u001b[39m \u001b[38;5;28;43minput\u001b[39;49m\u001b[38;5;241;43m.\u001b[39;49m\u001b[43msoftmax\u001b[49m\u001b[43m(\u001b[49m\u001b[43mdim\u001b[49m\u001b[43m)\u001b[49m\n\u001b[0;32m   1844\u001b[0m \u001b[38;5;28;01melse\u001b[39;00m:\n\u001b[0;32m   1845\u001b[0m     ret \u001b[38;5;241m=\u001b[39m \u001b[38;5;28minput\u001b[39m\u001b[38;5;241m.\u001b[39msoftmax(dim, dtype\u001b[38;5;241m=\u001b[39mdtype)\n",
      "\u001b[1;31mIndexError\u001b[0m: Dimension out of range (expected to be in range of [-1, 0], but got 1)"
     ]
    }
   ],
   "source": [
    "i = 6\n",
    "#print(y := my_dataset.dataset[i][1])\n",
    "#print(z := model.forward(my_dataset.dataset[i][0].to(device)))"
   ]
  },
  {
   "cell_type": "code",
   "execution_count": 17,
   "id": "9b1bbab7",
   "metadata": {},
   "outputs": [
    {
     "data": {
      "text/plain": [
       "tensor([1.8000e+01, 3.0000e+00, 1.4500e+03, 1.8837e+03, 1.4614e-01, 1.4870e+02,\n",
       "        1.5770e+02, 1.0643e+02, 9.5905e+01, 7.5365e+01, 1.6481e+02, 8.9444e+01,\n",
       "        5.4352e+00, 3.9540e+01, 2.2790e+03, 1.0000e+01], requires_grad=True)"
      ]
     },
     "execution_count": 17,
     "metadata": {},
     "output_type": "execute_result"
    }
   ],
   "source": [
    "my_dataset.dataset[i][0]"
   ]
  },
  {
   "cell_type": "code",
   "execution_count": 18,
   "id": "ae3c568b",
   "metadata": {},
   "outputs": [
    {
     "data": {
      "image/png": "[encoded data removed]",
      "text/plain": [
       "<Figure size 640x480 with 1 Axes>"
      ]
     },
     "metadata": {},
     "output_type": "display_data"
    }
   ],
   "source": [
    "slice_loss_array = loss_array\n",
    "\n",
    "X_func = np.arange(0, len(slice_loss_array), 1)\n",
    "\n",
    "# plt.xticks(np.arange(0, len(slice_loss_array), step=1000))\n",
    "# plt.yticks(np.arange(0, int(max(slice_loss_array)) + 2, step=200_000))\n",
    "plt.grid(linestyle='-', linewidth=0.5)\n",
    "\n",
    "plt.plot(X_func, slice_loss_array)\n",
    "plt.show()"
   ]
  },
  {
   "cell_type": "code",
   "execution_count": 19,
   "id": "1968d22b",
   "metadata": {},
   "outputs": [
    {
     "data": {
      "text/plain": [
       "tensor([[1.]], grad_fn=<SoftmaxBackward0>)"
      ]
     },
     "execution_count": 19,
     "metadata": {},
     "output_type": "execute_result"
    }
   ],
   "source": [
    "model.forward(x)"
   ]
  },
  {
   "cell_type": "code",
   "execution_count": 20,
   "id": "4f6a027b",
   "metadata": {},
   "outputs": [],
   "source": [
    "# import csv\n",
    "# with open('data_2.csv', 'w') as f:\n",
    "#     fieldnames = ['patient_id','patient_nhd','patient_ds,','patient_manual_class','rec_date_time','abs','std','norm_abs','mean','sd','median','mode','Q25','Q75','IQR','skew','kx2','n_pic','fistulas_kind']\n",
    "#     writer = csv.DictWriter(f, fieldnames=fieldnames, lineterminator = '\\\\n')\n",
    "#     #writer.writeheader()\n",
    "#     with torch.no_grad():\n",
    "#         for x in train_loader:\n",
    "#             x = x.to(device).float()\n",
    "#             output = model(x).argmax(dim=1)\n",
    "#             for y in output:\n",
    "#                 writer.writerow({fieldnames[18]: y.item()})"
   ]
  },
  {
   "cell_type": "code",
   "execution_count": null,
   "id": "460f49e2",
   "metadata": {},
   "outputs": [],
   "source": []
  }
 ],
 "metadata": {
  "kernelspec": {
   "display_name": "Python 3 (ipykernel)",
   "language": "python",
   "name": "python3"
  },
  "language_info": {
   "codemirror_mode": {
    "name": "ipython",
    "version": 3
   },
   "file_extension": ".py",
   "mimetype": "text/x-python",
   "name": "python",
   "nbconvert_exporter": "python",
   "pygments_lexer": "ipython3",
   "version": "3.11.0"
  }
 },
 "nbformat": 4,
 "nbformat_minor": 5
}
