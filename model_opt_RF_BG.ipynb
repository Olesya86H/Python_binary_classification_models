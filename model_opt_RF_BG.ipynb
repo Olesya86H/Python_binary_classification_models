{
 "cells": [
  {
   "cell_type": "code",
   "execution_count": 23,
   "id": "2a043cd1",
   "metadata": {},
   "outputs": [],
   "source": [
    "import numpy as np\n",
    "import pandas as pd"
   ]
  },
  {
   "cell_type": "code",
   "execution_count": 24,
   "id": "2d26f03c",
   "metadata": {},
   "outputs": [],
   "source": [
    "data = pd.read_csv('data_train_test.csv')\n",
    "a = data['patient_manual_class']\n",
    "a = a.replace(np.nan, 0)\n",
    "a = a.replace(2, 0)\n",
    "data['patient_manual_class'] = a\n",
    "data = data.dropna()"
   ]
  },
  {
   "cell_type": "code",
   "execution_count": 25,
   "id": "c00ee5fb",
   "metadata": {},
   "outputs": [],
   "source": [
    "from sklearn.model_selection import train_test_split\n",
    "num_features = ['abs', 'std', 'norm_abs', 'mean', 'sd', 'median', 'mode', 'Q25', 'Q75', 'IQR', 'skew', 'kurt', 'kx2', 'n_pic']\n",
    "cat_features = ['patient_ds', 'rec_date_time']\n",
    "X_train, X_test, y_train, y_test = train_test_split(data[num_features], data['patient_manual_class'], test_size=0.2, shuffle=False)"
   ]
  },
  {
   "cell_type": "code",
   "execution_count": 26,
   "id": "6bc9dde8",
   "metadata": {},
   "outputs": [],
   "source": [
    "df = pd.DataFrame(data[num_features])"
   ]
  },
  {
   "cell_type": "code",
   "execution_count": 27,
   "id": "5f5cd3e5",
   "metadata": {},
   "outputs": [
    {
     "name": "stderr",
     "output_type": "stream",
     "text": [
      "C:\\Users\\Chernyavskaya_OS\\AppData\\Local\\Programs\\Python\\Python311\\Lib\\site-packages\\sklearn\\ensemble\\_forest.py:586: UserWarning: Some inputs do not have OOB scores. This probably means too few trees were used to compute any reliable OOB estimates.\n",
      "  warn(\n",
      "C:\\Users\\Chernyavskaya_OS\\AppData\\Local\\Programs\\Python\\Python311\\Lib\\site-packages\\sklearn\\ensemble\\_forest.py:586: UserWarning: Some inputs do not have OOB scores. This probably means too few trees were used to compute any reliable OOB estimates.\n",
      "  warn(\n"
     ]
    },
    {
     "name": "stdout",
     "output_type": "stream",
     "text": [
      "Наибольшая точность модели случайного леса определяется в 86.67% на 15 деревьях\n"
     ]
    }
   ],
   "source": [
    "from sklearn.ensemble import RandomForestClassifier\n",
    "from sklearn.model_selection import StratifiedKFold \n",
    "#пытаемся улучшить долю правильных ответов, находим оптимальное кол-во деревьев в модели случайного леса\n",
    "# Инициализируем валидацию\n",
    "skf = StratifiedKFold(n_splits=2, shuffle=True, random_state=42)\n",
    "# Создаем списки для сохранения точности на тренировочном и тестовом датасете\n",
    "train_acc = []\n",
    "test_acc = []\n",
    "temp_train_acc = []\n",
    "temp_test_acc = []\n",
    "trees_grid = [5, 10, 15, 20, 30, 50, 75, 100]\n",
    "# Обучаем на тренировочном датасете\n",
    "for ntrees in trees_grid:\n",
    "    model_RF = RandomForestClassifier(n_estimators=ntrees, random_state=42, n_jobs=-1, oob_score=True)\n",
    "    temp_train_acc = []\n",
    "    temp_test_acc = []\n",
    "    for train_index, test_index in skf.split(X_train, y_train):\n",
    "        model_RF.fit(X_train, y_train)\n",
    "        temp_train_acc.append(model_RF.score(X_train, y_train))\n",
    "        temp_test_acc.append(model_RF.score(X_test, y_test))\n",
    "    train_acc.append(temp_train_acc)\n",
    "    test_acc.append(temp_test_acc)\n",
    "\n",
    "train_acc, test_acc = np.asarray(train_acc), np.asarray(test_acc)\n",
    "print(\"Наибольшая точность модели случайного леса определяется в {:.2f}% на {} деревьях\".format(max(test_acc.mean(axis=1))*100, \n",
    "                                                        trees_grid[np.argmax(test_acc.mean(axis=1))]))"
   ]
  },
  {
   "cell_type": "code",
   "execution_count": 28,
   "id": "ee457bc9",
   "metadata": {},
   "outputs": [
    {
     "name": "stdout",
     "output_type": "stream",
     "text": [
      "Наибольшая точность модели бэггинга на дереве решений определяется в 83.33% на 10 деревьях\n"
     ]
    }
   ],
   "source": [
    "#пытаемся улучшить долю правильных ответов, находим оптимальное кол-во деревьев в модели бэггинга на деревьях решений\n",
    "from sklearn.ensemble import BaggingClassifier\n",
    "from sklearn.tree import DecisionTreeClassifier\n",
    "# Инициализируем валидацию\n",
    "skf = StratifiedKFold(n_splits=2, shuffle=True, random_state=42)\n",
    "# Создаем списки для сохранения точности на тренировочном и тестовом датасете\n",
    "train_acc = []\n",
    "test_acc = []\n",
    "temp_train_acc = []\n",
    "temp_test_acc = []\n",
    "trees_grid = [5, 10, 15, 20, 30, 50, 75, 100]\n",
    "# Обучаем на тренировочном датасете\n",
    "for ntrees in trees_grid:\n",
    "    model_BG_DT = BaggingClassifier(DecisionTreeClassifier(),n_estimators=ntrees, random_state=42)\n",
    "    temp_train_acc = []\n",
    "    temp_test_acc = []\n",
    "    for train_index, test_index in skf.split(X_train, y_train):\n",
    "        model_BG_DT.fit(X_train, y_train)\n",
    "        temp_train_acc.append(model_BG_DT.score(X_train, y_train))\n",
    "        temp_test_acc.append(model_BG_DT.score(X_test, y_test))\n",
    "    train_acc.append(temp_train_acc)\n",
    "    test_acc.append(temp_test_acc)\n",
    "\n",
    "train_acc, test_acc = np.asarray(train_acc), np.asarray(test_acc)\n",
    "print(\"Наибольшая точность модели бэггинга на дереве решений определяется в {:.2f}% на {} деревьях\".format(max(test_acc.mean(axis=1))*100, \n",
    "                                                        trees_grid[np.argmax(test_acc.mean(axis=1))]))"
   ]
  },
  {
   "cell_type": "code",
   "execution_count": 29,
   "id": "db691d86",
   "metadata": {},
   "outputs": [
    {
     "name": "stdout",
     "output_type": "stream",
     "text": [
      "Точность: 0.8\n"
     ]
    }
   ],
   "source": [
    "from sklearn.svm import SVC\n",
    "model_SVM = SVC(gamma='auto').fit(X_train, y_train)\n",
    "prediction = model_SVM.predict(X_test)\n",
    "from sklearn import metrics\n",
    "print(\"Точность:\", metrics.accuracy_score(y_test, prediction))"
   ]
  },
  {
   "cell_type": "code",
   "execution_count": 30,
   "id": "476b4bbf",
   "metadata": {},
   "outputs": [
    {
     "name": "stdout",
     "output_type": "stream",
     "text": [
      "Точность: 0.8\n"
     ]
    }
   ],
   "source": [
    "from sklearn.svm import SVC\n",
    "model_SVM = SVC(kernel='linear').fit(X_train, y_train)\n",
    "prediction = model_SVM.predict(X_test)\n",
    "from sklearn import metrics\n",
    "print(\"Точность:\", metrics.accuracy_score(y_test, prediction))"
   ]
  },
  {
   "cell_type": "code",
   "execution_count": 31,
   "id": "799fe7aa",
   "metadata": {},
   "outputs": [
    {
     "name": "stdout",
     "output_type": "stream",
     "text": [
      "Метод опорных векторов на ядре rbf, ошибка штрафа С=1000000: 0.691667 (0.002778)\n",
      "Метод опорных векторов на ядре rbf, ошибка штрафа С=.0000001: 0.788889 (0.000000)\n",
      "Метод опорных векторов на ядре радиальной базисной функции:: 0.788889 (0.000000)\n",
      "Метод опорных векторов на полиномиальном ядре:: 0.788889 (0.000000)\n",
      "Метод опорных векторов на сигмоидальном ядре:: 0.775000 (0.013889)\n"
     ]
    }
   ],
   "source": [
    "#подбор ядра и ошибки штрафа для метода опорных векторов\n",
    "from sklearn.svm import SVC\n",
    "from sklearn.model_selection import cross_val_score\n",
    "from sklearn import metrics\n",
    "\n",
    "models_SVC = []\n",
    "models_SVC.append(('Метод опорных векторов на ядре rbf, ошибка штрафа С=1000000', SVC(kernel='rbf', C=1000000)))\n",
    "models_SVC.append(('Метод опорных векторов на ядре rbf, ошибка штрафа С=.0000001', SVC(kernel='rbf', C=.0000001)))\n",
    "models_SVC.append(('Метод опорных векторов на ядре радиальной базисной функции:', SVC(kernel='rbf')))\n",
    "models_SVC.append(('Метод опорных векторов на полиномиальном ядре:', SVC(kernel='poly')))\n",
    "models_SVC.append(('Метод опорных векторов на сигмоидальном ядре:', SVC(kernel='sigmoid')))\n",
    "results = []\n",
    "names = []\n",
    "for name, model in models_SVC:\n",
    "    kfold = StratifiedKFold(n_splits=2, random_state=1, shuffle=True)\n",
    "    cv_results = cross_val_score(model, X_train, y_train, cv=kfold, scoring='accuracy')\n",
    "    results.append(cv_results)\n",
    "    names.append(name)\n",
    "    print('%s: %f (%f)' % (name, cv_results.mean(), cv_results.std())) "
   ]
  },
  {
   "cell_type": "raw",
   "id": "a2a2cc31",
   "metadata": {},
   "source": [
    "Для анализа данных будем использовать модель случайного леса (на пятнадцати деревьях)."
   ]
  },
  {
   "cell_type": "code",
   "execution_count": 32,
   "id": "3421e6b9",
   "metadata": {},
   "outputs": [
    {
     "name": "stdout",
     "output_type": "stream",
     "text": [
      "Результаты классификации модели, построенной по методу случайного леса с оптимальными параметрами выгружены в файл data_test_model_RF_15.csv\n"
     ]
    }
   ],
   "source": [
    "#Cтроим модель по оптимальным параметрам и получаем результаты классификации в файле .csv\n",
    "model_RF = RandomForestClassifier(n_estimators=15, random_state=42, n_jobs=-1, oob_score=True).fit(X_train, y_train)\n",
    "data_test = pd.read_csv('data_test.csv')\n",
    "df_test = pd.DataFrame(data_test[num_features])\n",
    "df_test = df_test.dropna()\n",
    "X_test = df_test.iloc[:,:]\n",
    "prediction = model_RF.predict(X_test)\n",
    "df_test[\"fistulas_kind\"] = prediction #добавляем в наш НД расчетное значение\n",
    "#пишем в файл результат, колонка fistulas_kind:\n",
    "df_test.to_csv(\"data_test_model_RF_15.csv\", index=False)\n",
    "print(\"Результаты классификации модели, построенной по методу случайного леса с оптимальными параметрами выгружены в файл data_test_model_RF_15.csv\")"
   ]
  },
  {
   "cell_type": "code",
   "execution_count": 33,
   "id": "726260ac",
   "metadata": {},
   "outputs": [],
   "source": [
    "import pickle\n",
    "data = model_RF\n",
    "with open('model_RF_15.pickle', 'wb') as f:\n",
    "  pickle.dump(data, f)"
   ]
  },
  {
   "cell_type": "code",
   "execution_count": 34,
   "id": "94210b0a",
   "metadata": {},
   "outputs": [
    {
     "name": "stdout",
     "output_type": "stream",
     "text": [
      "Виды АВФ в результате классификации методом случайного леса:  [1. 0.]\n",
      "0 - плохая, 1 - хорошая\n",
      "\n",
      " fistulas_kind\n",
      "0.0     54\n",
      "1.0    180\n",
      "dtype: int64\n"
     ]
    }
   ],
   "source": [
    "print(\"Виды АВФ в результате классификации методом случайного леса: \", df_test.fistulas_kind.unique())\n",
    "print(\"0 - плохая, 1 - хорошая\")\n",
    "print(\"\\n\", df_test.groupby('fistulas_kind').size())"
   ]
  },
  {
   "cell_type": "code",
   "execution_count": 35,
   "id": "351ea7f4",
   "metadata": {},
   "outputs": [
    {
     "name": "stdout",
     "output_type": "stream",
     "text": [
      "Демонстрация окончена\n"
     ]
    }
   ],
   "source": [
    "print(\"Демонстрация окончена\")"
   ]
  }
 ],
 "metadata": {
  "kernelspec": {
   "display_name": "Python 3 (ipykernel)",
   "language": "python",
   "name": "python3"
  },
  "language_info": {
   "codemirror_mode": {
    "name": "ipython",
    "version": 3
   },
   "file_extension": ".py",
   "mimetype": "text/x-python",
   "name": "python",
   "nbconvert_exporter": "python",
   "pygments_lexer": "ipython3",
   "version": "3.11.0"
  }
 },
 "nbformat": 4,
 "nbformat_minor": 5
}
