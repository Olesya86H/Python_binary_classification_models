{
 "cells": [
  {
   "cell_type": "code",
   "execution_count": 6,
   "id": "71847d60",
   "metadata": {},
   "outputs": [],
   "source": [
    "import numpy as np\n",
    "import pandas as pd\n",
    "from sklearn.discriminant_analysis import LinearDiscriminantAnalysis"
   ]
  },
  {
   "cell_type": "code",
   "execution_count": 7,
   "id": "1a5cfe72",
   "metadata": {},
   "outputs": [],
   "source": [
    "data = pd.read_csv('data_train_test.csv')\n",
    "a = data['patient_manual_class']\n",
    "a = a.replace(np.nan, 0)\n",
    "a = a.replace(2, 0)\n",
    "data['patient_manual_class'] = a\n",
    "data = data.dropna()"
   ]
  },
  {
   "cell_type": "code",
   "execution_count": 8,
   "id": "4c48f4d1",
   "metadata": {},
   "outputs": [],
   "source": [
    "from sklearn.model_selection import train_test_split\n",
    "num_features = ['abs', 'std', 'norm_abs', 'mean', 'sd', 'median', 'mode', 'Q25', 'Q75', 'IQR', 'skew', 'kurt', 'kx2', 'n_pic']\n",
    "cat_features = ['patient_ds', 'rec_date_time']\n",
    "X_train, X_test, y_train, y_test = train_test_split(data[num_features], data['patient_manual_class'], test_size=0.2, shuffle=False)"
   ]
  },
  {
   "cell_type": "code",
   "execution_count": 9,
   "id": "c4059e64",
   "metadata": {},
   "outputs": [],
   "source": [
    "df = pd.DataFrame(data[num_features])"
   ]
  },
  {
   "cell_type": "code",
   "execution_count": 10,
   "id": "e23c80df",
   "metadata": {},
   "outputs": [],
   "source": [
    "model_LDA = LinearDiscriminantAnalysis().fit(X_train, y_train)"
   ]
  },
  {
   "cell_type": "code",
   "execution_count": 11,
   "id": "f1db4329",
   "metadata": {},
   "outputs": [],
   "source": [
    "import pickle\n",
    "data = model_LDA\n",
    "with open('model_LDA.pickle', 'wb') as f:\n",
    "  pickle.dump(data, f)"
   ]
  },
  {
   "cell_type": "code",
   "execution_count": 12,
   "id": "ea97a0bc",
   "metadata": {},
   "outputs": [
    {
     "name": "stdout",
     "output_type": "stream",
     "text": [
      "Точность: 0.8222222222222222\n"
     ]
    }
   ],
   "source": [
    "prediction = model_LDA.predict(X_test)\n",
    "from sklearn import metrics\n",
    "print(\"Точность:\", metrics.accuracy_score(y_test, prediction))"
   ]
  },
  {
   "cell_type": "code",
   "execution_count": 13,
   "id": "0ec5ed38",
   "metadata": {},
   "outputs": [
    {
     "name": "stdout",
     "output_type": "stream",
     "text": [
      "Ошибка MSE: 0.17777777777777778\n"
     ]
    }
   ],
   "source": [
    "from sklearn.metrics import mean_squared_error\n",
    "print(\"Ошибка MSE:\", mean_squared_error(y_test, prediction))"
   ]
  },
  {
   "cell_type": "code",
   "execution_count": 14,
   "id": "24faac23",
   "metadata": {},
   "outputs": [
    {
     "name": "stdout",
     "output_type": "stream",
     "text": [
      "Ошибка RMSE: 0.4216370213557839\n"
     ]
    }
   ],
   "source": [
    "from math import sqrt\n",
    "print(\"Ошибка RMSE:\", sqrt(mean_squared_error(y_test, prediction)))"
   ]
  },
  {
   "cell_type": "code",
   "execution_count": 15,
   "id": "9f03577c",
   "metadata": {},
   "outputs": [
    {
     "name": "stdout",
     "output_type": "stream",
     "text": [
      "Результаты классификации модели, построенной c помощью линейного дискриминантного анализа выгружены в файл data_test_model_LDA.csv\n"
     ]
    }
   ],
   "source": [
    "data_test = pd.read_csv('data_test.csv')\n",
    "df_test = pd.DataFrame(data_test[num_features])\n",
    "df_test = df_test.dropna()\n",
    "X_test = df_test.iloc[:,:]\n",
    "prediction = model_LDA.predict(X_test)\n",
    "df_test[\"fistulas_kind\"] = prediction #добавляем в наш НД расчетное значение\n",
    "#пишем в файл результат, колонка fistulas_kind:\n",
    "df_test.to_csv(\"data_test_model_LDA.csv\", index=False)\n",
    "print(\"Результаты классификации модели, построенной c помощью линейного дискриминантного анализа выгружены в файл data_test_model_LDA.csv\")"
   ]
  },
  {
   "cell_type": "code",
   "execution_count": 16,
   "id": "9b90aa53",
   "metadata": {},
   "outputs": [
    {
     "name": "stdout",
     "output_type": "stream",
     "text": [
      "Виды АВФ в результате классификации с помощью линейного дискриминантного анализа:  [1. 0.]\n",
      "0 - плохая, 1 - хорошая\n",
      "\n",
      " fistulas_kind\n",
      "0.0     24\n",
      "1.0    210\n",
      "dtype: int64\n"
     ]
    }
   ],
   "source": [
    "print(\"Виды АВФ в результате классификации с помощью линейного дискриминантного анализа: \", df_test.fistulas_kind.unique())\n",
    "print(\"0 - плохая, 1 - хорошая\")\n",
    "print(\"\\n\", df_test.groupby('fistulas_kind').size())"
   ]
  },
  {
   "cell_type": "code",
   "execution_count": null,
   "id": "6f0b94e4",
   "metadata": {},
   "outputs": [],
   "source": []
  }
 ],
 "metadata": {
  "kernelspec": {
   "display_name": "Python 3 (ipykernel)",
   "language": "python",
   "name": "python3"
  },
  "language_info": {
   "codemirror_mode": {
    "name": "ipython",
    "version": 3
   },
   "file_extension": ".py",
   "mimetype": "text/x-python",
   "name": "python",
   "nbconvert_exporter": "python",
   "pygments_lexer": "ipython3",
   "version": "3.11.0"
  }
 },
 "nbformat": 4,
 "nbformat_minor": 5
}
