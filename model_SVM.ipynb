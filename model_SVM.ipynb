{
 "cells": [
  {
   "cell_type": "code",
   "execution_count": 1,
   "id": "a375833b",
   "metadata": {},
   "outputs": [],
   "source": [
    "import numpy as np\n",
    "import pandas as pd"
   ]
  },
  {
   "cell_type": "code",
   "execution_count": 2,
   "id": "4fe5da46",
   "metadata": {},
   "outputs": [],
   "source": [
    "data = pd.read_csv('data_train_test.csv')\n",
    "a = data['patient_manual_class']\n",
    "a = a.replace(np.nan, 0)\n",
    "a = a.replace(2, 0)\n",
    "data['patient_manual_class'] = a\n",
    "data = data.dropna()"
   ]
  },
  {
   "cell_type": "code",
   "execution_count": 3,
   "id": "60508c80",
   "metadata": {},
   "outputs": [],
   "source": [
    "from sklearn.model_selection import train_test_split\n",
    "num_features = ['abs', 'std', 'norm_abs', 'mean', 'sd', 'median', 'mode', 'Q25', 'Q75', 'IQR', 'skew', 'kurt', 'kx2', 'n_pic']\n",
    "cat_features = ['patient_ds', 'rec_date_time']\n",
    "X_train, X_test, y_train, y_test = train_test_split(data[num_features], data['patient_manual_class'], test_size=0.2, shuffle=False)"
   ]
  },
  {
   "cell_type": "code",
   "execution_count": 4,
   "id": "90abae97",
   "metadata": {},
   "outputs": [],
   "source": [
    "df = pd.DataFrame(data[num_features])"
   ]
  },
  {
   "cell_type": "code",
   "execution_count": 5,
   "id": "3c5e868c",
   "metadata": {},
   "outputs": [],
   "source": [
    "from sklearn.svm import SVC\n",
    "model_SVM = SVC(gamma='auto').fit(X_train, y_train)"
   ]
  },
  {
   "cell_type": "code",
   "execution_count": 13,
   "id": "444609d4",
   "metadata": {},
   "outputs": [],
   "source": [
    "import pickle\n",
    "data = model_SVM\n",
    "with open('model_SVM.pickle', 'wb') as f:\n",
    "  pickle.dump(data, f)"
   ]
  },
  {
   "cell_type": "code",
   "execution_count": 7,
   "id": "e7b822d3",
   "metadata": {},
   "outputs": [
    {
     "name": "stdout",
     "output_type": "stream",
     "text": [
      "Точность: 0.8\n"
     ]
    }
   ],
   "source": [
    "prediction = model_SVM.predict(X_test)\n",
    "from sklearn import metrics\n",
    "print(\"Точность:\", metrics.accuracy_score(y_test, prediction))"
   ]
  },
  {
   "cell_type": "code",
   "execution_count": 8,
   "id": "fc1e7e33",
   "metadata": {},
   "outputs": [
    {
     "name": "stdout",
     "output_type": "stream",
     "text": [
      "Ошибка MSE: 0.2\n"
     ]
    }
   ],
   "source": [
    "from sklearn.metrics import mean_squared_error\n",
    "print(\"Ошибка MSE:\", mean_squared_error(y_test, prediction))"
   ]
  },
  {
   "cell_type": "code",
   "execution_count": 9,
   "id": "bb1389a7",
   "metadata": {},
   "outputs": [
    {
     "name": "stdout",
     "output_type": "stream",
     "text": [
      "Ошибка RMSE: 0.4472135954999579\n"
     ]
    }
   ],
   "source": [
    "from math import sqrt\n",
    "print(\"Ошибка RMSE:\", sqrt(mean_squared_error(y_test, prediction)))"
   ]
  },
  {
   "cell_type": "code",
   "execution_count": 11,
   "id": "6c0f9df6",
   "metadata": {},
   "outputs": [
    {
     "name": "stdout",
     "output_type": "stream",
     "text": [
      "Результаты классификации модели, построенной по методу опорных векторов выгружены в файл data_test_model_SVM.csv\n"
     ]
    }
   ],
   "source": [
    "data_test = pd.read_csv('data_test.csv')\n",
    "df_test = pd.DataFrame(data_test[num_features])\n",
    "df_test = df_test.dropna()\n",
    "X_test = df_test.iloc[:,:]\n",
    "prediction = model_SVM.predict(X_test)\n",
    "df_test[\"fistulas_kind\"] = prediction #добавляем в наш НД расчетное значение\n",
    "#пишем в файл результат, колонка fistulas_kind:\n",
    "df_test.to_csv(\"data_test_model_DT.csv\", index=False)\n",
    "print(\"Результаты классификации модели, построенной по методу опорных векторов выгружены в файл data_test_model_SVM.csv\")"
   ]
  },
  {
   "cell_type": "code",
   "execution_count": 12,
   "id": "67b523d0",
   "metadata": {},
   "outputs": [
    {
     "name": "stdout",
     "output_type": "stream",
     "text": [
      "Виды АВФ в результате классификации методом иерархических деревьев:  [0. 1.]\n",
      "0 - плохая, 1 - хорошая\n",
      "\n",
      " fistulas_kind\n",
      "0.0     32\n",
      "1.0    202\n",
      "dtype: int64\n"
     ]
    }
   ],
   "source": [
    "print(\"Виды АВФ в результате классификации методом иерархических деревьев: \", df_test.fistulas_kind.unique())\n",
    "print(\"0 - плохая, 1 - хорошая\")\n",
    "print(\"\\n\", df_test.groupby('fistulas_kind').size())"
   ]
  }
 ],
 "metadata": {
  "kernelspec": {
   "display_name": "Python 3 (ipykernel)",
   "language": "python",
   "name": "python3"
  },
  "language_info": {
   "codemirror_mode": {
    "name": "ipython",
    "version": 3
   },
   "file_extension": ".py",
   "mimetype": "text/x-python",
   "name": "python",
   "nbconvert_exporter": "python",
   "pygments_lexer": "ipython3",
   "version": "3.11.0"
  }
 },
 "nbformat": 4,
 "nbformat_minor": 5
}
